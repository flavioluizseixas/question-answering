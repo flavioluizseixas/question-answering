{
 "cells": [
  {
   "cell_type": "code",
   "execution_count": 13,
   "metadata": {},
   "outputs": [],
   "source": [
    "import fitz  # PyMuPDF\n",
    "\n",
    "pdf_path = \"./data/KUROSE, James - Redes de Computadores e a Internet_ uma abordagem top-down-Pearson (2013).pdf\"\n",
    "\n",
    "def convert_pdf_to_text(pdf_path):\n",
    "    text = \"\"\n",
    "    with fitz.open(pdf_path) as doc:\n",
    "        for page in doc:\n",
    "            text += page.get_text()\n",
    "    return text\n",
    "\n",
    "def split_text_into_documents(text, chunk_size=500):\n",
    "    words = text.split()\n",
    "    chunks = [' '.join(words[i:i+chunk_size]) for i in range(0, len(words), chunk_size)]\n",
    "    return chunks\n",
    "\n",
    "pdf_text = convert_pdf_to_text(pdf_path)\n",
    "pdf_chunks = split_text_into_documents(pdf_text)\n",
    "\n",
    "docs = [Document(content=chunk) for chunk in pdf_chunks]"
   ]
  },
  {
   "cell_type": "code",
   "execution_count": 14,
   "metadata": {},
   "outputs": [],
   "source": [
    "from haystack.telemetry import tutorial_running\n",
    "tutorial_running(27)"
   ]
  },
  {
   "cell_type": "code",
   "execution_count": 15,
   "metadata": {},
   "outputs": [],
   "source": [
    "from haystack.document_stores.in_memory import InMemoryDocumentStore\n",
    "document_store = InMemoryDocumentStore()"
   ]
  },
  {
   "cell_type": "code",
   "execution_count": 16,
   "metadata": {},
   "outputs": [],
   "source": [
    "from haystack.components.embedders import SentenceTransformersDocumentEmbedder\n",
    "doc_embedder = SentenceTransformersDocumentEmbedder(model=\"sentence-transformers/all-MiniLM-L6-v2\")\n",
    "doc_embedder.warm_up()"
   ]
  },
  {
   "cell_type": "code",
   "execution_count": 17,
   "metadata": {},
   "outputs": [
    {
     "data": {
      "application/vnd.jupyter.widget-view+json": {
       "model_id": "4682c912b81540b3a0beb38b8e0e63c2",
       "version_major": 2,
       "version_minor": 0
      },
      "text/plain": [
       "Batches:   0%|          | 0/24 [00:00<?, ?it/s]"
      ]
     },
     "metadata": {},
     "output_type": "display_data"
    },
    {
     "data": {
      "text/plain": [
       "738"
      ]
     },
     "execution_count": 17,
     "metadata": {},
     "output_type": "execute_result"
    }
   ],
   "source": [
    "docs_with_embeddings = doc_embedder.run(docs)\n",
    "document_store.write_documents(docs_with_embeddings[\"documents\"])"
   ]
  },
  {
   "cell_type": "code",
   "execution_count": 18,
   "metadata": {},
   "outputs": [],
   "source": [
    "from haystack.components.embedders import SentenceTransformersTextEmbedder\n",
    "text_embedder = SentenceTransformersTextEmbedder(model=\"sentence-transformers/all-MiniLM-L6-v2\")"
   ]
  },
  {
   "cell_type": "code",
   "execution_count": 19,
   "metadata": {},
   "outputs": [],
   "source": [
    "from haystack.components.retrievers.in_memory import InMemoryEmbeddingRetriever\n",
    "retriever = InMemoryEmbeddingRetriever(document_store)"
   ]
  },
  {
   "cell_type": "code",
   "execution_count": 20,
   "metadata": {},
   "outputs": [],
   "source": [
    "from typing import List\n",
    "from haystack import Pipeline, component\n",
    "from transformers import pipeline\n",
    "\n",
    "# Inicializando o modelo de question-answering\n",
    "model_name = 'pierreguillou/bert-large-cased-squad-v1.1-portuguese'\n",
    "qa_pipeline = pipeline(\"question-answering\", model=model_name)\n",
    "\n",
    "@component\n",
    "class QAPipelineComponent:\n",
    "    \"\"\"\n",
    "    A component for question answering using a Hugging Face pipeline\n",
    "    \"\"\"\n",
    "    def __init__(self, qa_pipeline):\n",
    "        self.qa_pipeline = qa_pipeline\n",
    "\n",
    "    @component.output_types(answers=List[dict])\n",
    "    def run(self, query: str, documents: List[Document]):\n",
    "        context = ' '.join([doc.content for doc in documents])\n",
    "        print(f\"Context: {context}\")\n",
    "        result = self.qa_pipeline(question=query, context=context)\n",
    "        print(f\"Answer: {result['answer']}\")\n",
    "        return {\"answers\": [{\"answer\": result[\"answer\"], \"score\": result[\"score\"]}]}\n"
   ]
  },
  {
   "cell_type": "code",
   "execution_count": 21,
   "metadata": {},
   "outputs": [],
   "source": [
    "# Criando o pipeline de texto\n",
    "basic_rag_pipeline = Pipeline()\n",
    "basic_rag_pipeline.add_component(\"text_embedder\", text_embedder)\n",
    "basic_rag_pipeline.add_component(\"retriever\", retriever)\n",
    "basic_rag_pipeline.add_component(name=\"qa_component\", instance=QAPipelineComponent(qa_pipeline))"
   ]
  },
  {
   "cell_type": "code",
   "execution_count": 22,
   "metadata": {},
   "outputs": [
    {
     "data": {
      "text/plain": [
       "<haystack.core.pipeline.pipeline.Pipeline object at 0x72d0f707f9a0>\n",
       "🚅 Components\n",
       "  - text_embedder: SentenceTransformersTextEmbedder\n",
       "  - retriever: InMemoryEmbeddingRetriever\n",
       "  - qa_component: QAPipelineComponent\n",
       "🛤️ Connections\n",
       "  - text_embedder.embedding -> retriever.query_embedding (List[float])\n",
       "  - retriever.documents -> qa_component.documents (List[Document])"
      ]
     },
     "execution_count": 22,
     "metadata": {},
     "output_type": "execute_result"
    }
   ],
   "source": [
    "# Conectando os componentes entre si\n",
    "basic_rag_pipeline.connect(\"text_embedder.embedding\", \"retriever.query_embedding\")\n",
    "basic_rag_pipeline.connect(\"retriever\", \"qa_component.documents\")"
   ]
  },
  {
   "cell_type": "code",
   "execution_count": 23,
   "metadata": {},
   "outputs": [
    {
     "data": {
      "application/vnd.jupyter.widget-view+json": {
       "model_id": "a5866f596924413ea80a00cd85eaee25",
       "version_major": 2,
       "version_minor": 0
      },
      "text/plain": [
       "Batches:   0%|          | 0/1 [00:00<?, ?it/s]"
      ]
     },
     "metadata": {},
     "output_type": "display_data"
    },
    {
     "name": "stdout",
     "output_type": "stream",
     "text": [
      "Context: capacidade de modificar a realização de um serviço sem afetar outros componentes do sistema é outra vantagem importante da divisão em camadas. Camadas de protocolo Mas chega de linhas aéreas! Vamos agora voltar nossa atenção a protocolos de rede. Para prover uma es- trutura para o projeto, projetistas de rede organizam protocolos — e o hardware e o software de rede que os executam — em camadas. Cada protocolo pertence a uma das camadas, assim como cada função na arquitetura de linha aérea da Figura 1.22 pertencia a uma camada. Mais uma vez estamos interessados nos serviços que uma camada oferece à camada acima dela — denominado modelo de serviço. Assim como em nosso exemplo da linha aérea, cada camada provê seu serviço (1) executando certas ações dentro dela e (2) utilizando os serviços da camada diretamente abaixo dela. Por exemplo, os serviços providos pela camada n podem incluir entrega confiável de mensagens de uma extremidade da rede à outra, que pode ser implementada utilizando um serviço não confiável de entrega de mensagem fim a fim da camada n – 1 e adicionando funcionalidade da camada n para detectar e retransmitir mensagens perdidas. Figura 1.22 Camadas horizontais da funcionalidade de linha aérea Passagem aérea (comprar) Bagagem (despachar) Portões (embarcar) Decolagem Roteamento de aeronave Roteamento de aeronave Roteamento de aeronave Roteamento de aeronave Passagem (reclamar) Bagagem (recuperar) Portões (desembarcar) Aterrissagem Passagem Bagagem Portão Decolagem/Aterrissagem Roteamento de aeronave Aeroporto de origem Aeroporto de destino Centrais intermediárias de controle de tráfego aéreo Redes de computadores e a Internet 37 Uma camada de protocolo pode ser executada em software, em hardware, ou em uma combinação dos dois. Protocolos de camada de aplicação — como HTTP e SMTP — quase sempre são realizados em software nos sistemas finais; o mesmo acontece com protocolos de camada de transporte. Como a camada física e as de enlace de dados são responsáveis pelo manuseio da comunicação por um enlace específico, em geral são executadas em uma placa de interface de rede (por exemplo, placas de interface Ethernet ou Wi-Fi) associadas a determinado enlace. A camada de rede quase sempre é uma execução mista de hardware e software. Note também que, tal como as funções na arquitetura em camadas da linha aérea eram distribuídas entre os vários aeroportos e centrais de controle de tráfego aéreo que compunham o sistema, um protocolo de camada n é distribuído entre sistemas finais, comutadores de pacote e outros componentes que formam a rede. Isto é, há sempre uma parte de um pro- tocolo de camada n em cada componente de rede. O sistema de camadas de protocolos tem vantagens conceituais e estruturais [RFC 3439]. Como vimos, a divisão em camadas proporciona um modo estruturado de discutir componentes de sistemas. A modularidade facilita a atualização de componentes de sistema. Devemos mencionar, no entanto, que alguns pesquisadores e engenheiros de rede se opõem veementemente ao sistema de camadas [Wakeman, 1992]. Uma desvantagem potencial é que uma camada pode duplicar a funcionalidade de uma inferior. Por mutadores da camada 2, e cada roteador de acesso, comutador da camada 1 e comutador da camada 2 pode ser duplicado e integrado ao projeto [Cisco, 2012; Greenberg, 2009b]. No projeto hierárquico da Figura 5.30, observe que os hospedeiros abaixo de cada roteador de acesso formam uma única sub-rede. Para localizar o tráfego de difusão ARP, cada uma dessas sub-redes é dividida ainda mais em sub-redes de VLAN menores, cada uma com- preendendo algumas centenas de hospedeiros [Greenberg, 2009a]. camada de enlace: enlaces, redes de acesso e redes locais 365 Embora a arquitetura hierárquica convencional que acabamos de descrever resolva o problema de escala, ela sofre de capacidade limitada de hospedeiro-a-hospedeiro [Greenberg, 2009b]. Para entender essa limitação, considere novamente a Figura 5.30 e suponha que cada hospedeiro se conecte ao seu comutador TOR com um enlace de 1 Gbit/s, enquanto os enlaces entre os comutadores são enlaces Ethernet de 10 Gbits/s. Dois hospedeiros na mesma estante sempre podem se comunicar com 1 Gbit/s completo, limitados apenas pela ve- locidade das placas de interface de rede dos hospedeiros. Porém, se houver muitos fluxos simultâneos na rede do datacenter, a velocidade máxima entre dois hospedeiros em estantes diferentes pode ser muito menor. Para ter uma ideia desse problema, considere um padrão de tráfego consistindo em 40 fluxos simultâneos entre 40 pares de hospedeiros em diferentes estantes. Especificamente, suponha que cada um dos 10 hospedeiros na estante 1 da Figura 5.30 envie um fluxo a um hospedeiro correspondente na estante 5. De modo semelhante, há dez fluxos simultâneos entre pares de hospedeiros nas estantes 2 e 6, dez fluxos simultâneos entre as estantes 3 e 7, e dez fluxos simultâneos entre as estantes 4 e 8. Se cada fluxo compartilha uniformemente a capacidade de um enlace com outros fluxos atravessando esse enlace, então os 40 fluxos cruzando o enlace de 10 Gbits/s de A-para-B (bem como o enlace de 10 Gbits/s de B-para-C) receberão, cada um, apenas 10 Gbits/s / 40 = 250 Mbits/s, que é muito menor do que a velocidade de 1 Gbit/s da placa de interface de rede. O problema se torna ainda mais grave para fluxos entre hospedeiros que precisam trafegar por uma camada mais alta na hierarquia. Uma solução possível para essa limitação é empregar comutadores e roteadores com velocidade mais alta. Mas isso aumentaria significativamente o custo do datacenter, pois os comutadores e roteadores com grandes velocidades de porta são muito caros. O suporte à comunicação com alta largura de banda de hospedeiro-a-hospedeiro é importante porque um requisito básico nos datacenters é a flexibilidade no posicionamento de computação e serviços [Greenberg, 2009b; Farrington, 2010]. Por exemplo, um mecanismo de busca da Internet em grande escala pode ser executa- do em milhares de hospedeiros espalhados por várias estantes com requisitos de largura de banda significativos entre todos os pares de hospedeiros. De modo semelhante, um serviço de computação de nuvem, como EC2, pode querer colocar as diversas máquinas virtuais que compreendem um serviço do cliente nos hospedeiros físi- serviço diferente de cada um dos variados protocolos de camada de enlace. Neste livro, pacotes de camada de enlace serão denominados quadros. Camada física Enquanto a tarefa da camada de enlace é movimentar quadros inteiros de um elemento da rede até um elemento adjacente, a da camada física é movimentar os bits individuais que estão dentro do quadro de um nó para o seguinte. Os protocolos nessa camada de novo dependem do enlace e, além disso, do próprio meio de transmissão do enlace (por exemplo, fios de cobre trançado ou fibra ótica monomodal). Por exemplo, a Ethernet tem muitos protocolos de camada física: um para par de fios de cobre trançado, outro para cabo coaxial, mais um para fibra e assim por diante. Em cada caso, o bit atravessa o enlace de um modo diferente. O modelo OSI Após discutir em detalhes a pilha de protocolos da Internet, devemos mencionar que ela não é a única exis- tente. No final dos anos 1970, a Organização Internacional para Padronização (ISO — International Organization for Standardization) propôs que as redes de computadores fossem organizadas em, mais ou menos, sete camadas, denominadas modelo de Interconexão de Sistemas Abertos (OSI — Open Systems Interconnection) [ISO, 2012]. O modelo OSI tomou forma quando os protocolos que iriam se tornar protocolos da Internet estavam em sua infância e eram um dos muitos conjuntos em desenvolvimento; na verdade, os inventores do modelo OSI original provavelmente não tinham a Internet em mente ao criá-lo. No entanto, no final dos anos 1970, muitos cursos uni- versitários e de treinamento obtiveram conhecimentos sobre a exigência do ISO e organizaram cursos voltados para o modelo de sete camadas. Em razão de seu impacto precoce na educação de redes, esse modelo continua presente em alguns livros sobre redes e em cursos de treinamento. As sete camadas do modelo de referência OSI, mostradas na Figura 1.23(b), são: de aplicação, de apresen- tação, de sessão, de transporte, de rede, de enlace e camada física. A funcionalidade de cinco dessas camadas é a mesma que seus correspondentes da Internet. Desse modo, vamos considerar as duas camadas adicionais presentes no modelo de referência OSI — a de apresentação e a de sessão. O papel da camada de apresentação é prover serviços que permitam que as aplicações de comunicação interpretem o significado dos dados trocados. Entre esses serviços estão a compressão e a codificação de dados (o que não precisa de explicação), assim como a descrição de dados (que, como veremos no Capítulo 9, livram as aplicações da preocupação com o formato interno no qual os dados estão sendo representados/armazenados — formatos que podem ser diferentes de um computador para o outro). A camada de sessão provê a delimitação e sincronização da troca de dados, incluindo os meios de construir um esquema de pontos de verificação e de recuperação. O fato de a Internet ser desprovida de duas camadas encontradas no modelo de referência OSI faz surgir duas questões: os serviços fornecidos por essas camadas são irrelevantes? as tabelas de repasse em cada um dos roteadores de pacotes no caminho para indicar que o CV não existe mais. Há uma distinção sutil, mas importante, entre estabelecimento de CV na camada de rede e estabelecimento de conexão na camada de transporte (por exemplo, a apresentação TCP de três vias que estudamos no Capítulo 3). Estabelecer conexão na camada de transporte envolve apenas os dois sistemas finais. Durante o estabeleci- mento da conexão na camada de transporte, os dois sistemas finais determinam os parâmetros (por exemplo, número de sequência inicial e tamanho da janela de controle de fluxo) de sua conexão de camada de transporte. Embora os dois sistemas finais fiquem cientes da conexão de camada de transporte, os roteadores dentro da rede Figura 4.4 Estabelecimento de circuito virtual Transporte Enlace Física Aplicação Rede Transporte Enlace Física Aplicação Rede 1. Inicia chamada 2. Chamada chegando 5. Começo do ﬂuxo de dados 6. Recebimento de dados 4. Chamada conectada 3. Chamada aceita A CAMADA de REDE 233 ficam completamente alheios a ela. Por outro lado, com uma camada de rede de CV, os roteadores do caminho entre os dois sistemas finais estão envolvidos no estabelecimento de CV e cada roteador fica totalmente ciente de todos os CVs que passam por ele. As mensagens que os sistemas finais enviam à rede para iniciar ou encerrar um CV e aquelas passadas entre os roteadores para estabelecer o CV (isto é, modificar estado de conexão em tabelas de roteadores) são conhecidas como mensagens de sinalização e os protocolos usados para trocá-las costumam ser denomi- nados protocolos de sinalização. O estabelecimento de CV está ilustrado na Figura 4.4. Não abordaremos protocolos de sinalização de CVs neste livro; Black [1997] apresenta uma discussão geral sobre sinalização em redes orientadas para conexão e ITU-T Q.2931 [1994] mostra a especificação do protocolo de sinalização Q.2931 do ATM. 4.2.2 Redes de datagramas Em uma rede de datagramas, toda vez que um sistema final quer enviar um pacote, ele marca o pacote com o endereço do sistema final de destino e então o envia para dentro da rede. Como mostra a Figura 4.5, isso é feito sem o estabelecimento de nenhum CV. Roteadores em uma rede de datagramas não mantêm nenhuma informa- ção de estado sobre CVs (porque não há nenhum!). Ao ser transmitido da origem ao destino, um pacote passa por uma série de roteadores. Cada um desses roteadores usa o endereço de destino do pacote para repassá-lo. Especificamente, cada roteador tem uma tabela de repasse que mapeia endereços de destino para interfaces de enlaces; quando um pacote chega ao roteador, este usa o endereço de destino do pacote para procurar a interface de enlace de saída apropriada na tabela de repasse. Então, o roteador transmite o pacote para aquela interface de enlace de saída. Para entender melhor a operação de consulta, vamos examinar um exemplo específico. Suponha que todos os endereços de destino tenham 32 bits (que, por acaso, é exatamente o comprimento do endereço de destino criadas sobre uma única infraestrutura física de LAN. Encerramos nosso estudo da camada de enlace focalizando como redes MPLS fornecem serviços da ca- mada de enlace quando interconectadas com roteadores IP e com uma visão geral dos projetos de rede para os maciços datacenters atuais. Concluímos este capítulo (e, sem dúvida, os cinco primeiros) identificando os muitos protocolos que são necessários para buscar uma simples página Web. Com isso, concluímos nossa jornada pela pilha de protocolos! É claro que a camada física fica abaixo da de enlace, mas provavelmente será melhor deixar os detalhes da camada física para outro curso. Contudo, discutimos brevemente vários aspectos da camada física neste capítulo e no Capítulo 1 (nossa discussão sobre meios físicos na Seção 1.2). Consideraremos novamente a camada física quando estudarmos as características dos enlaces sem fio no próximo capítulo. Embora nossa jornada pela pilha de protocolos esteja encerrada, o estudo sobre rede de computadores ain- da não chegou ao fim. Nos quatro capítulos seguintes, examinaremos redes sem fio, redes multimídia, segurança da rede e gerenciamento de redes. Esses quatro tópicos não se encaixam perfeitamente em uma única camada; na verdade, cada um atravessa muitas camadas. Assim, entender esses tópicos (às vezes tachados de “tópicos avan- çados” em alguns textos sobre redes) requer uma boa base sobre todas as camadas da pilha de protocolos — uma base que se completou com nosso estudo sobre a camada de enlace de dados!  Redes de computadores e a Internet 372 Exercícios de fixação e perguntas Questões de revisão do Capítulo 5 SEÇÕES 5.1–5.2 R1. Considere a analogia de transporte na Seção 5.1.1. Se o passageiro é comparado com o datagrama, o que é comparado com o quadro da camada de enlace? R2. Se todos os enlaces da Internet fornecessem serviço de entrega confiável, o serviço de entrega confiável do TCP seria redundante? Justifique sua resposta. R3. Quais alguns possíveis serviços um protocolo da camada de enlace pode oferecer à camada de rede? Quais dos serviços da camada de enlace têm correspondentes no IP? E no TCP? SEÇÃO 5.3 R4. Suponha que dois nós comecem a transmitir ao mesmo tempo um pacote de comprimento L por um canal broadcast de velocidade R. Denote o atraso de propagação entre os dois nós como dprop. Haverá uma colisão se dprop < L/R? Por quê? R5. Na Seção 5.3, relacionamos quatro características desejáveis de um canal de difusão. O slotted ALOHA tem quais dessas características? E o protocolo de passagem de permissão, tem quais dessas características? R6. No CSMA/CD, depois da quinta colisão, qual é a probabilidade de um nó escolher K = 4? O resultado K = 4 corresponde a um atraso de quantos segundos em uma Ethernet de 10 Mbits/s? R7. Descreva os protocolos de polling e de passagem de permissão usando a analogia com as interações ocorridas em um coquetel. R8. Por que o protocolo de passagem de permissão seria ineficiente se uma LAN tivesse um perímetro muito grande? SEÇÃO 5.4 R9. Que tamanho tem mesmo que X conheça um caminho, digamos, XCY, que chegue até a rede Y, ele não anunciará esse caminho a B. Como B não fica sabendo que X tem um caminho para Y, B nunca repassaria tráfego destinado a Y (ou a C) por meio de X. Esse exemplo simples ilustra como uma política seletiva de anúncio de rota pode ser usada para implementar relacionamentos de roteamento cliente/provedor. Em seguida, vamos focalizar uma rede provedora, digamos, o AS B. Suponha que B ficasse sabendo (por A) que A tem um caminho AW para W. Assim, B pode instalar a rota BAW em sua base de informações de roteamen- to. É claro que B também quer anunciar o caminho BAW a seu cliente, X, de modo que X saiba que pode rotear para W via B. Porém, B deveria anunciar o caminho BAW a C? Se o fizer, então C poderia rotear tráfego para W via CBAW. Se A, B e C forem todos provedores de backbone, então B poderia sentir-se no direito de achar que não deveria ter de suportar a carga (e o custo!) de transportar o tráfego em trânsito entre A e B. B poderia sentir-se no direito de achar que é de A e C o trabalho (e o custo!) de garantir que C possa rotear de/para clientes de A por meio de uma conexão direta entre A e C. Hoje não existe nenhum padrão oficial que determine como ISPs de backbone  Redes de computadores e a Internet 294 devem rotear entre si. Todavia, os ISPs comerciais adotam uma regra prática que diz que qualquer tráfego que es- teja fluindo por uma rede de backbone de um ISP deve ter ou uma origem ou um destino (ou ambos) em uma rede que seja cliente daquele ISP; caso contrário, o tráfego estaria pegando uma carona gratuita na rede do ISP. Acordos individuais de parceria (peering) (para reger questões como as levantadas) costumam ser negociados entre pares de ISPs e, em geral, são confidenciais; Huston [1999a] provê uma discussão interessante sobre acordos de parceria. Se quiser uma descrição detalhada sobre como a política de roteamento reflete os relacionamentos comerciais entre Figura 4.42 Um cenário BGP simples Legenda: A W X Y B Rede do provedor Rede do cliente C Por que há diferentes protocolos de roteamento inter-AS e intra-AS? Agora que já examinamos os detalhes de protoco- los de roteamento inter-AS e intra-AS específicos uti- lizados pela Internet, vamos concluir considerando a questão talvez mais fundamental que, antes de tudo, poderíamos levantar sobre esses protocolos (espera- mos que você tenha estado preocupado com isso o tempo todo e que não tenha deixado de enxergar o quadro geral por causa dos detalhes!). Por que são usados diferentes protocolos de roteamento inter-AS e intra-AS? A resposta a essa pergunta expõe o âmago da di- ferença entre os objetivos do roteamento dentro de um AS e entre ASs: • Política. Entre ASs, as questões políticas dominam. Pode até ser importante que a segurança da camada de aplicação. Então, descemos a pilha de pro- tocolo. Examinaremos o protocolo SSL (que provê segurança na camada de transporte), o IPsec (que provê segurança na camada de rede) e a segurança do protocolo LAN IEEE 802.11 sem fio. Você deve estar se perguntando por que a funcionalidade da segurança está sendo fornecida em mais de uma camada na Internet. Já não bastaria prover essa funcionalidade na camada de rede? Há duas respostas para a pergunta. Primeiro, embora a segurança na camada de rede possa oferecer “cobertura total” cifrando todos os dados nos datagramas (ou seja, todos os segmentos da camada de transporte) e autenticando todos os endere- ços IP destinatários, ela não pode prover segurança no nível do usuário. Por exemplo, um site de comércio não pode confiar na segurança da camada IP para autenticar um cliente que vai comprar mercadorias. Assim, existe a necessidade de uma funcionalidade da segurança em camadas superiores bem como cobertura total em canais inferiores. Segundo, em geral é mais fácil implementar serviços da Internet, incluindo os de segurança nas cama- das superiores da pilha de protocolo. Enquanto aguardamos a ampla implementação da segurança na camada de  Redes de computadores e a Internet 520 rede, o que ainda levará muitos anos, muitos criadores de aplicação “já fazem isso” e introduzem a funcionalida- de da segurança em suas aplicações favoritas. Um exemplo clássico é o Pretty Good Privacy (PGP), que oferece e-mail seguro (discutido mais adiante nesta seção). Necessitando de apenas um código de aplicação do cliente e do servidor, o PGP foi uma das primeiras tecnologias de segurança a ser amplamente utilizada na Internet. 8.5.1 E-mail seguro Agora usamos os princípios de criptografia das seções 8.2 a 8.3 para criar um sistema de e-mail seguro. Cria- mos esse projeto de alto nível de maneira incremental, introduzindo, a cada etapa, novos serviços de segurança. Em nosso projeto de um sistema de e-mail seguro, vamos manter em mente o exemplo picante apresentado na Seção 8.1 — o caso de amor entre Alice e Bob. Imagine que Alice quer enviar uma mensagem de e-mail para Bob e Trudy quer bisbilhotar. Antes de avançar e projetar um sistema de e-mail seguro para Alice e Bob, devemos considerar quais carac- terísticas de segurança seriam as mais desejáveis para eles. A primeira, e mais importante, é a confidencialidade. Como foi discutido na Seção 8.1, nem Alice nem Bob querem que Trudy leia a mensagem de e-mail de Alice. A segunda característica que Alice e Bob provavelmente gostariam de ver no sistema de e-mail seguro é a autenticação do remetente. Em particular, quando Bob receber a seguinte mensagem: “Eu não o amo mais. Nunca mais quero vê-lo. Da anteriormente sua, Alice” , ele naturalmente gostaria de ter certeza de que a mensa- gem veio de Alice, e não de Trudy. Outra característica de segurança de que os dois amantes gostariam de dispor é a integridade de mensagem, isto é, a certeza de que a mensagem que livros so- bre redes são, em geral, organizados de acordo com as “camadas” de uma arquitetura de rede. Com a organização em camadas, os estudantes podem vislumbrar a complexidade das redes de computadores — eles aprendem os conceitos e os protocolos distintos de uma parte da arquitetura e, ao mesmo tempo, visualizam o grande quadro da interconexão entre as camadas. Do ponto de vista pedagógico, nossa experiência confirma que essa aborda- gem em camadas é, de fato, muito boa. Entretanto, achamos que a abordagem tradicional, a bottom-up — da camada física para a camada de aplicação —, não é a melhor para um curso moderno de redes de computadores. Uma abordagem top-down Na primeira edição, propusemos uma inovação adotando uma visão top-down — isto é, começando na ca- mada de aplicação e descendo até a camada física. O retorno que recebemos de professores e alunos confirmou que essa abordagem tem muitas vantagens e realmente funciona bem do ponto de vista pedagógico. Primeiro, o livro dá ênfase à camada de aplicação, que tem sido a área de “grande crescimento” das redes de computadores. De fato, muitas das recentes revoluções nesse ramo — incluindo a Web, o compartilhamento de arquivos P2P e o fluxo contínuo de mídia — tiveram lugar nessa camada. A abordagem de ênfase inicial à camada de aplicação é diferente das seguidas por muitos outros livros, que têm apenas pouco material sobre aplicações de redes, seus requisitos, paradigmas da camada de aplicação (por exemplo, cliente-servidor e P2P) e interfaces de programação prefácio XI de aplicação. Segundo, nossa experiência como professores (e a de muitos outros que utilizaram este livro) confirma que ensinar aplicações de rede logo no início do curso é uma poderosa ferramenta motivadora. Os estudantes ficam mais entusiasmados ao aprender como funcionam as aplicações de rede — aplicações como o e-mail e a Web, que a maioria deles usa diariamente. Entendendo as aplicações, o estudante pode entender os serviços de rede necessários ao suporte de tais aplicações. Pode também, por sua vez, examinar as várias manei- ras como esses serviços são fornecidos e executados nas camadas mais baixas. Assim, a discussão das aplicações logo no início fornece a motivação necessária para os demais assuntos do livro. Terceiro, a abordagem top-down habilita o professor a apresentar o desenvolvimento das aplicações de rede no estágio inicial. Os estudantes não só veem como funcionam aplicações e protocolos populares, como também aprendem que é fácil criar suas próprias aplicações e protocolos de aplicação de rede. Com a abordagem top­ ‑down, eles entram imediatamente em contato com as noções de programação de sockets, modelos de serviços e protocolos — conceitos importantes que reaparecem em todas as camadas subsequentes. Ao apresentar exemplos de programação de sockets em Python, destacamos as ideias centrais sem confundir os estudantes com códigos complexos. Estudantes de engenharia elétrica e ciência da computação talvez não tenham dificuldades para en- tender o código Python. Um foco na Internet Continuamos a colocar a Internet em foco nesta edição do livro. Na protocolo de camada de transporte específico ao qual a porção de dados desse datagrama IP deverá ser passa- da. Por exemplo, um valor 6 indica que a porção de dados será passada ao TCP , enquanto um valor 17 indica que os dados serão passados ao UDP . Consulte IANA Protocol Numbers [2012] para ver uma lista de todos os valores possíveis. Note que o número do protocolo no datagrama IP tem um papel análogo ao do campo de número de porta no segmento da camada de transporte. O número do protocolo é o elo entre as camadas de rede e de transporte, ao passo que o número de porta liga as camadas de transporte e de aplicação. Vere- mos no Capítulo 5 que o quadro de camada de enlace também tem um campo especial que liga a camada de enlace à camada de rede. • Soma de verificação do cabeçalho. A soma de verificação do cabeçalho auxilia um roteador na detecção de erros de bits em um datagrama IP recebido. É calculada tratando cada 2 bytes do cabeçalho como se fossem um número e somando esses números usando complementos aritméticos de 1. Como discutimos na Seção 3.3, o complemento de 1 dessa soma, conhecida como soma de verificação da Internet, é armazenado no campo de soma de verificação. Um roteador calculará o valor da soma de verificação para cada datagrama IP recebido e detectará uma condição de erro se o valor carregado no cabeçalho do datagrama não for igual à soma de verificação calculada. Roteadores em geral descartam datagramas quando um erro é detectado. Figura 4.13 Formato do datagrama IPv4 Versão Tipo de serviço Comprimento do cabeçalho Protocolo da camada superior Identiﬁcador de 16 bits Tempo de vida Deslocamento de fragmentação (13 bits) Flags Comprimento do datagrama (bytes) Soma de veriﬁcação do cabeçalho 32 bits Endereço IP da origem Endereço IP do destino Opções (se houver) Dados A CAMADA de REDE 247 Note que a soma de verificação deve ser recalculada e armazenada de novo em cada roteador, pois o cam- po TTL e, possivelmente, também os campos de opções podem mudar. Uma discussão interessante sobre algoritmos rápidos para calcular a soma de verificação da Internet é encontrada em [RFC 1071]. Uma per- gunta que sempre é feita nesse ponto é: por que o TCP/IP faz verificação de erro nas camadas de transporte e de rede? Há várias razões para essa repetição. Primeiro, note que, na camada IP, a soma de verificação é calculada só para o cabeçalho IP, enquanto no TCP/UDP a soma de verificação é calculada para todo o segmento TCP/IP. Segundo, o TCP/UDP e o IP não precisam necessariamente pertencer à mesma pilha de protocolos. O TCP pode, em princípio, rodar sobre um protocolo diferente (por exemplo, ATM) e o IP pode carregar dados que não serão passados ao TCP/UDP. • Endereços IP de origem e de destino. Quando uma origem cria um datagrama, insere seu endereço IP no campo de endereço de origem IP e e serviços de camada de transporte Nos dois capítulos anteriores, citamos o papel da camada de transporte e os serviços que ela fornece. Vamos revisar rapidamente o que já aprendemos sobre a camada de transporte. Um protocolo da camada de transporte fornece comunicação lógica entre processos de aplicação que ro- dam em hospedeiros diferentes. Comunicação lógica nesse contexto significa que, do ponto de vista de uma aplicação, tudo se passa como se os hospedeiros que rodam os processos estivessem conectados diretamente; 1 4 5 6 8 9 7 c a p í t u l o camada de transporte 23  Redes de computadores e a Internet 136 na verdade, eles poderão estar em lados opostos do planeta, conectados por diversos roteadores e uma ampla variedade de tipos de enlace. Processos de aplicação usam a comunicação lógica fornecida pela camada de trans- porte para enviar mensagens entre si, livres da preocupação dos detalhes da infraestrutura física utilizada para transportá-las. A Figura 3.1 ilustra a noção de comunicação lógica. Como vemos na Figura 3.1, protocolos da camada de transporte são implementados nos sistemas finais, mas não em roteadores de rede. No lado remetente, a camada de transporte converte as mensagens que recebe de um processo de aplicação remetente em pacotes de camada de transporte, denominados segmentos de camada de transporte na terminologia da Internet. Isso é (possivelmente) feito fragmentando-se as mensagens da aplica- ção em pedaços menores e adicionando-se um cabeçalho de camada de transporte a cada pedaço para criar o seg- mento de camada de transporte. Essa camada, então, passa o segmento para a de rede no sistema final remetente, onde ele é encapsulado em um pacote de camada de rede (um datagrama) e enviado ao destinatário. É importante notar que roteadores de rede agem somente nos campos de camada de rede do datagrama; isto é, não examinam os campos do segmento de camada de transporte encapsulado com o datagrama. No lado destinatário, a camada Rede móvel KR 03.01.eps AW/Kurose and Ross Computer Networking, 6/e size: 36p0 x 41p5 9/6/11, 10/28/11, 10/31/11 11/21/11 i ISP nacional ou global ISP local ou regional Rede corporativa Rede doméstica Rede Enlace de dados Física Aplicação Transporte Rede Enlace de dados Física Aplicação Transporte Rede Enlace de dados Física Transporte lógico ﬁm a ﬁm Rede Enlace de dados Física Rede Enlace de dados Física Rede Enlace de dados Física Rede Enlace de dados Física Figura 3.1 \u0007 A camada de transporte fornece comunicação lógica, e não física, entre processos de aplicações CAMADA de transporte 137 de rede extrai do datagrama o segmento de camada de transporte e passa-o para a camada de transporte que, em seguida, processa o segmento recebido, disponibilizando os dados para a aplicação destinatária. Mais de um protocolo de camada de transporte poderão estar disponíveis às aplicações de rede. Por exem- plo, a Internet possui dois protocolos — TCP e UDP. Cada um oferece um conjunto diferente de serviços de camada de transporte à aplicação chamadora. 3.1.1 Relação entre as camadas\n",
      "Answer: .\n"
     ]
    }
   ],
   "source": [
    "question = \"Quais as camadas do modelo OSI?\"\n",
    "response = basic_rag_pipeline.run({\n",
    "    \"text_embedder\": {\"text\": question},\n",
    "    \"qa_component\": {\"query\": question}\n",
    "})"
   ]
  },
  {
   "cell_type": "code",
   "execution_count": 24,
   "metadata": {},
   "outputs": [
    {
     "name": "stdout",
     "output_type": "stream",
     "text": [
      "Answer: .\n",
      "Score: 0.24663789570331573\n"
     ]
    }
   ],
   "source": [
    "# Acessando e exibindo a primeira resposta e sua pontuação\n",
    "first_answer = response[\"qa_component\"][\"answers\"][0]\n",
    "answer = first_answer[\"answer\"]\n",
    "score = first_answer[\"score\"]\n",
    "print(f\"Answer: {answer}\")\n",
    "print(f\"Score: {score}\")"
   ]
  }
 ],
 "metadata": {
  "kernelspec": {
   "display_name": "myenv",
   "language": "python",
   "name": "python3"
  },
  "language_info": {
   "codemirror_mode": {
    "name": "ipython",
    "version": 3
   },
   "file_extension": ".py",
   "mimetype": "text/x-python",
   "name": "python",
   "nbconvert_exporter": "python",
   "pygments_lexer": "ipython3",
   "version": "3.9.19"
  }
 },
 "nbformat": 4,
 "nbformat_minor": 2
}
